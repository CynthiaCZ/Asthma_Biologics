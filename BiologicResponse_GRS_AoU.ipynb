{
 "cells": [
  {
   "cell_type": "code",
   "execution_count": null,
   "metadata": {
    "vscode": {
     "languageId": "r"
    }
   },
   "outputs": [],
   "source": [
    "library(data.table)\n",
    "library(tidyverse)\n",
    "library(data.table)\n",
    "library(tidyverse)\n",
    "library(tableone)\n",
    "library(knitr)\n",
    "library(pROC)\n",
    "library(glmnet)\n",
    "library(ggplot2)\n",
    "library(MASS)"
   ]
  },
  {
   "cell_type": "code",
   "execution_count": null,
   "metadata": {
    "vscode": {
     "languageId": "r"
    }
   },
   "outputs": [],
   "source": [
    "# load data files into env\n",
    "my_bucket <- Sys.getenv('WORKSPACE_BUCKET')\n",
    "\n",
    "system(paste0(\"gsutil cp \", my_bucket, \"/path/to/\", \"grs_collated.tsv\", \" .\"), intern=T)\n",
    "system(paste0(\"gsutil cp \", my_bucket, \"/path/to/\", \"recoded_variants_collated_w_IL4.tsv\", \" .\"), intern=T)\n",
    "\n",
    "system(paste0(\"gsutil cp \", my_bucket, \"/path/to/\", \"asthma_exac_pheno_pc.tsv\", \" .\"), intern=T)\n",
    "system(paste0(\"gsutil cp \", my_bucket, \"/path/to/\", \"asthma_exac_pheno_pc_cut_at_switch_freeze20250117.tsv\", \" .\"), intern=T)\n",
    "system(paste0(\"gsutil cp \", my_bucket, \"/path/to/\", \"pre_index_3yr_max_eosinophil.tsv\", \" .\"), intern=T)\n",
    "\n",
    "# system(paste0(\"gsutil cp helper_functions.R \", my_bucket, \"/path/to/\"), intern=T)\n",
    "system(paste0(\"gsutil cp \", my_bucket, \"/path/to/\", \"helper_functions.R\", \" .\"), intern=T)"
   ]
  },
  {
   "cell_type": "code",
   "execution_count": null,
   "metadata": {
    "vscode": {
     "languageId": "r"
    }
   },
   "outputs": [],
   "source": [
    "source(\"helper_functions.R\")"
   ]
  },
  {
   "cell_type": "code",
   "execution_count": null,
   "metadata": {
    "vscode": {
     "languageId": "r"
    }
   },
   "outputs": [],
   "source": [
    "pheno_pc_old <- fread(\"asthma_exac_pheno_pc.tsv\", data.table=F)\n",
    "pheno_pc <- fread(\"asthma_exac_pheno_pc_cut_at_switch_freeze20250117.tsv\", data.table=F)\n",
    "eos <- fread(\"pre_index_3yr_max_eosinophil.tsv\", data.table=F)\n",
    "\n",
    "grs <- fread(\"grs_collated.tsv\", data.table=F)\n",
    "recoded_variants <- fread(\"recoded_variants_collated_w_IL4.tsv\", data.table=F)"
   ]
  },
  {
   "cell_type": "code",
   "execution_count": null,
   "metadata": {
    "vscode": {
     "languageId": "r"
    }
   },
   "outputs": [],
   "source": [
    "summary(pheno_pc_old$post_index_exac_1yr)\n",
    "summary(pheno_pc$post_index_exac_1yr)"
   ]
  },
  {
   "cell_type": "code",
   "execution_count": null,
   "metadata": {
    "vscode": {
     "languageId": "r"
    }
   },
   "outputs": [],
   "source": [
    "df_all <- merge(pheno_pc, grs, by.x='person_id', by.y='#IID')\n",
    "df_all <- merge(df_all, recoded_variants, by.x='person_id', by.y='IID')\n",
    "df_all <- merge(df_all, eos, by='person_id', all.x=TRUE)\n",
    "\n",
    "nrow(df_all)"
   ]
  },
  {
   "cell_type": "code",
   "execution_count": null,
   "metadata": {
    "vscode": {
     "languageId": "r"
    }
   },
   "outputs": [],
   "source": [
    "df <- df_all %>% filter(race_ethnicity==\"White-Not Hispanic or Latino\")\n",
    "nrow(df)"
   ]
  },
  {
   "cell_type": "code",
   "execution_count": null,
   "metadata": {
    "vscode": {
     "languageId": "r"
    }
   },
   "outputs": [],
   "source": [
    "colnames(df)"
   ]
  },
  {
   "cell_type": "code",
   "execution_count": null,
   "metadata": {
    "vscode": {
     "languageId": "r"
    }
   },
   "outputs": [],
   "source": [
    "snp_name_map <- c(\n",
    "  \"chr2:233757337:A:G_A\" = \"IFNG.14147.50.3_snp\",\n",
    "  \"chr6:170177225:G:T_G\" = \"IFNGR2.9180.6.3_snp\",\n",
    "  \"chr6:32615369:C:T_C\" = \"IGHE.IGK.IGL.4135.84.2_snp\",\n",
    "  \"chr19:53817382:A:G_A\" = \"IL10.2773.50.2_snp\",\n",
    "  \"chr15:68544807:C:T_C\" = \"IL13RA1.2633.52.2_15_68544807_snp\",\n",
    "  \"chr4:186239907:T:G_T\" = \"IL13RA1.2633.52.2_4_186239907_snp\",\n",
    "  \"chr5:24337093:A:G_A\" = \"IL17A.9170.24.3_snp\",\n",
    "  \"chr9:12201384:T:C_T\" = \"IL22.2778.10.2_snp\",\n",
    "  \"chr12:33925202:A:C_A\" = \"IL6.4673.13.2_snp\",\n",
    "  \"chr3:165788464:A:C_A\" = \"IRF6.9999.1.3_snp\",\n",
    "  \"chr16:27363079:A:G_A\" = \"IL4R.3055.54.2_16_27363079_snp\",\n",
    "  \"chr16:27344882:A:G_A\" = \"IL4R.3055.54.2_16_27344882_snp\",\n",
    "  \"chr16:27362859:T:C_T\" = \"IL4R.3055.54.2_16_27362859_snp\",\n",
    "  \"chr16:27362659:C:T_C\" = \"IL4R.3055.54.2_16_27362659_snp\"\n",
    ")\n",
    "\n",
    "rename_snps <- function(df, snp_name_map) {\n",
    "  colnames(df) <- sapply(colnames(df), function(col) {\n",
    "    if (col %in% names(snp_name_map)) {\n",
    "      snp_name_map[[col]]\n",
    "    } else {\n",
    "      col\n",
    "    }\n",
    "  })\n",
    "  return(df)\n",
    "}\n",
    "\n",
    "df <- rename_snps(df, snp_name_map)\n",
    "colnames(df)"
   ]
  },
  {
   "cell_type": "markdown",
   "metadata": {},
   "source": [
    "### Prepare risk scores and snps"
   ]
  },
  {
   "cell_type": "code",
   "execution_count": null,
   "metadata": {
    "scrolled": true,
    "vscode": {
     "languageId": "r"
    }
   },
   "outputs": [],
   "source": [
    "scores=grep(\"\\\\.\",names(df),value=T)\n",
    "# added <- c(\"IL5RA.4491.4.2\",\"TNFAIP8.12563.2.3\",\"PGD.4187.49.2\",\"IL1RAP.2630.12.2\")\n",
    "not_in_mgb_analysis <- c(\"IL1B.3037.62.1\", \"IGF1.2952.75.2\")\n",
    "scores <- scores[!scores %in% not_in_mgb_analysis]\n",
    "\n",
    "rnList=grep(\"_snp\",scores,value=T,invert=T)\n",
    "print(length(rnList))\n",
    "print(rnList)\n",
    "\n",
    "snpList=grep(\"_snp\",names(df),value=T)\n",
    "print(length(snpList))\n",
    "print(snpList)"
   ]
  },
  {
   "cell_type": "code",
   "execution_count": null,
   "metadata": {
    "vscode": {
     "languageId": "r"
    }
   },
   "outputs": [],
   "source": [
    "rNorm <- function(x){\n",
    "  qnorm((rank(x,na.last=\"keep\", ties.method= \"first\")-0.5)/sum(!is.na(x)))\n",
    "}\n",
    "\n",
    "df[,rnList] <- lapply(df[,rnList],function(x){\n",
    "  rNorm(x)\n",
    "})\n",
    "\n",
    "# Regress out the PCs\n",
    "pcs=paste0(\"PC\",1:10)\n",
    "for(pr in rnList){\n",
    "\n",
    "  df[,pr] <- as.numeric(resid(lm(as.formula(paste0(pr,\"~\",paste0(pcs,collapse = \"+\"))),data=df)))\n",
    "  \n",
    "}"
   ]
  },
  {
   "cell_type": "code",
   "execution_count": null,
   "metadata": {
    "scrolled": true,
    "vscode": {
     "languageId": "r"
    }
   },
   "outputs": [],
   "source": [
    "sapply(scores,function(x){\n",
    "  hist(df[,x],main=x,xlab=\"\")\n",
    "})"
   ]
  },
  {
   "cell_type": "code",
   "execution_count": null,
   "metadata": {
    "vscode": {
     "languageId": "r"
    }
   },
   "outputs": [],
   "source": [
    "# define response variable\n",
    "df <- df %>% \n",
    "  mutate(response = case_when(\n",
    "    pre_index_exac == 0 & post_index_exac_1yr > 0 ~ 0,\n",
    "    pre_index_exac == 0 & post_index_exac_1yr == 0 ~ 1,\n",
    "    TRUE ~ ifelse((post_index_exac_1yr / pre_index_exac) <= 0.5, 1, 0)\n",
    "  ))"
   ]
  },
  {
   "cell_type": "code",
   "execution_count": null,
   "metadata": {
    "vscode": {
     "languageId": "r"
    }
   },
   "outputs": [],
   "source": [
    "table(df$response)"
   ]
  },
  {
   "cell_type": "code",
   "execution_count": null,
   "metadata": {
    "vscode": {
     "languageId": "r"
    }
   },
   "outputs": [],
   "source": [
    "table(df$initial_biologic)"
   ]
  },
  {
   "cell_type": "code",
   "execution_count": null,
   "metadata": {
    "vscode": {
     "languageId": "r"
    }
   },
   "outputs": [],
   "source": [
    "# make new variable for biologic\n",
    "df <- df %>% mutate(initial_biologic_recoded=\n",
    "  case_when(\n",
    "    initial_biologic ==\"Dupilumab\" ~\"Dupilumab\",\n",
    "    initial_biologic == \"Omalizumab\" ~ \"Omalizumab\",\n",
    "    initial_biologic %in% c(\"Benralizumab\",\"Mepolizumab\") ~ \"IL5\",\n",
    "    TRUE ~ NA_character_\n",
    "  )\n",
    ")\n",
    "table(df$initial_biologic_recoded)"
   ]
  },
  {
   "cell_type": "code",
   "execution_count": null,
   "metadata": {
    "vscode": {
     "languageId": "r"
    }
   },
   "outputs": [],
   "source": [
    "df <- df[!is.na(df$initial_biologic_recoded), ]\n",
    "cat(\"Total patients:\", nrow(df))"
   ]
  },
  {
   "cell_type": "code",
   "execution_count": null,
   "metadata": {
    "vscode": {
     "languageId": "r"
    }
   },
   "outputs": [],
   "source": [
    "demovars=c(\"age\",\"female\",\"race_ethnicity\",\"BMI\",\"smoking_status\",\"pre_index_exac\",\"post_index_exac_1yr\",\"post_index_exac\")\n",
    "varsToFactor=c(\"female\",\"race_ethnicity\",\"smoking_status\")\n",
    "\n",
    "\n",
    "T1=CreateTableOne(vars=demovars,factorVars = varsToFactor,strata=\"initial_biologic_recoded\",data=df)\n",
    "\n",
    "# print(T1, nonnormal = c(\"pre_index_exac\", \"post_index_exac_1yr\", \"post_index_exac\"))\n",
    "T1_out <- print(T1,quote = FALSE, noSpaces = TRUE, printToggle = FALSE, varLabel = TRUE)\n",
    "\n",
    "kable(T1_out)"
   ]
  },
  {
   "cell_type": "code",
   "execution_count": null,
   "metadata": {
    "vscode": {
     "languageId": "r"
    }
   },
   "outputs": [],
   "source": [
    "df_rm0 <- df %>% filter(post_index_exac_1yr > 0)\n",
    "T1_rm0=CreateTableOne(vars=demovars,factorVars = varsToFactor,strata=\"initial_biologic_recoded\",data=df_rm0)\n",
    "\n",
    "T1_out_rm0 <- print(T1_rm0,quote = FALSE, noSpaces = TRUE, printToggle = FALSE, varLabel = TRUE,nonnormal=c(c(\"pre_index_exac\", \"post_index_exac_1yr\", \"post_index_exac\")))\n",
    "kable(T1_out_rm0)"
   ]
  },
  {
   "cell_type": "code",
   "execution_count": null,
   "metadata": {
    "vscode": {
     "languageId": "r"
    }
   },
   "outputs": [],
   "source": [
    "write.table(T1_out, \"table_one_aou.txt\", sep = \"\\t\", row.names = FALSE, quote = FALSE)\n",
    "write.table(T1_out_rm0, \"table_one_rm0_aou.txt\", sep = \"\\t\", row.names = FALSE, quote = FALSE)"
   ]
  },
  {
   "cell_type": "code",
   "execution_count": null,
   "metadata": {
    "vscode": {
     "languageId": "r"
    }
   },
   "outputs": [],
   "source": [
    "outcome <- \"post_index_exac_1yr\"\n",
    "# outcome <- \"post_index_exac\"\n",
    "\n",
    "adjustment_vars <- c(\"age\", \"female\",\"BMI\", \"pre_index_exac\")\n",
    "pcs # defined above\n",
    "\n",
    "strata=names(table(df$initial_biologic_recoded))"
   ]
  },
  {
   "cell_type": "markdown",
   "metadata": {},
   "source": [
    "### Regression"
   ]
  },
  {
   "cell_type": "markdown",
   "metadata": {},
   "source": [
    "#### Baseline exacerbation"
   ]
  },
  {
   "cell_type": "code",
   "execution_count": null,
   "metadata": {
    "vscode": {
     "languageId": "r"
    }
   },
   "outputs": [],
   "source": [
    "summary(df$max_eosinophil_3yr)"
   ]
  },
  {
   "cell_type": "code",
   "execution_count": null,
   "metadata": {
    "vscode": {
     "languageId": "r"
    }
   },
   "outputs": [],
   "source": [
    "summary(df$PC1)"
   ]
  },
  {
   "cell_type": "code",
   "execution_count": null,
   "metadata": {
    "scrolled": false,
    "vscode": {
     "languageId": "r"
    }
   },
   "outputs": [],
   "source": [
    "sumTab_nb_baseline_rm0 <- data.frame(matrix(nrow=0,ncol=7))\n",
    "\n",
    "for (predictor in scores) {\n",
    "\n",
    "  if(predictor %in% rnList){\n",
    "    adjustment_vars2=c(\"age\",\"female\",\"BMI\",\"max_eosinophil_3yr\")\n",
    "  } else{\n",
    "    adjustment_vars2=c(\"age\",\"female\",\"BMI\",pcs,\"max_eosinophil_3yr\") \n",
    "  }\n",
    "  \n",
    "  model_table <- call_model(df_rm0, drug_group=\"all\", outcome=\"pre_index_exac\", predictor, model_type=\"nb\",\n",
    "                            adjustment_vars2, log_offset=NULL)\n",
    "  \n",
    "  sumTab_nb_baseline_rm0 <- rbind(sumTab_nb_baseline_rm0, model_table)\n",
    "  \n",
    "}\n",
    "\n",
    "\n",
    "sumTab_nb_baseline_rm0 <- sumTab_nb_baseline_rm0 %>% \n",
    "  mutate(adj_p=signif(p.adjust(pval,method = \"BH\"),2)) %>%\n",
    "  mutate(pval = signif(pval, 2)) %>%\n",
    "  # filter(adj_p < 0.05) %>% \n",
    "  dplyr::select(outcome,predictor,beta_95CI,pval,adj_p) %>%\n",
    "  arrange(pval)\n",
    "\n",
    "\n",
    "sumTab_nb_baseline_rm0 %>% filter(adj_p < 0.1)\n",
    "sumTab_nb_baseline_rm0 %>% filter(pval < 0.1)"
   ]
  },
  {
   "cell_type": "code",
   "execution_count": null,
   "metadata": {
    "vscode": {
     "languageId": "r"
    }
   },
   "outputs": [],
   "source": [
    "sumTab_nb_baseline <- data.frame(matrix(nrow=0,ncol=7))\n",
    "\n",
    "for (predictor in scores) {\n",
    "\n",
    "  if(predictor %in% rnList){\n",
    "    adjustment_vars2=c(\"age\",\"female\",\"BMI\",\"max_eosinophil_3yr\")\n",
    "  } else{\n",
    "    adjustment_vars2=c(\"age\",\"female\",\"BMI\",pcs,\"max_eosinophil_3yr\") \n",
    "  }\n",
    "  \n",
    "  model_table <- call_model(df, drug_group=\"all\", outcome=\"pre_index_exac\", predictor, model_type=\"nb\",\n",
    "                            adjustment_vars2, log_offset=NULL)\n",
    "  \n",
    "  sumTab_nb_baseline <- rbind(sumTab_nb_baseline, model_table)\n",
    "  \n",
    "}\n",
    "\n",
    "\n",
    "sumTab_nb_baseline <- sumTab_nb_baseline %>% \n",
    "  mutate(adj_p=signif(p.adjust(pval,method = \"BH\"),2)) %>%\n",
    "  mutate(pval = signif(pval, 2)) %>%\n",
    "  # filter(adj_p < 0.05) %>% \n",
    "  dplyr::select(outcome,predictor,beta_95CI,pval,adj_p) %>%\n",
    "  arrange(pval)\n",
    "\n",
    "\n",
    "sumTab_nb_baseline %>% filter(adj_p < 0.1)\n",
    "sumTab_nb_baseline %>% filter(pval < 0.1)"
   ]
  },
  {
   "cell_type": "markdown",
   "metadata": {},
   "source": [
    "#### Exacerbation Poisson"
   ]
  },
  {
   "cell_type": "code",
   "execution_count": null,
   "metadata": {
    "vscode": {
     "languageId": "r"
    }
   },
   "outputs": [],
   "source": [
    "sumTab_poisson <- data.frame(matrix(nrow=0,ncol=7))\n",
    "\n",
    "for(st in strata){\n",
    "\n",
    "  for (predictor in scores) {\n",
    "  \n",
    "#     cat(\"Running model for predictor:\", predictor, \"\\n\")  # Debugging line to track loop progress\n",
    "  \n",
    "    if(predictor %in% rnList){\n",
    "      adjustment_vars2=adjustment_vars\n",
    "    } else{\n",
    "      adjustment_vars2=paste0(c(adjustment_vars,pcs),collapse = \"+\")\n",
    "    }\n",
    "    \n",
    "    model_table <- call_model(df %>% filter(initial_biologic_recoded==st),\n",
    "                                drug_group = st, outcome, predictor, model_type = \"poisson\", \n",
    "                                adjustment_vars2, log_offset=\"days_followed_1yr\")\n",
    "    \n",
    "    sumTab_poisson <- rbind(sumTab_poisson, model_table)\n",
    "    \n",
    "  }\n",
    "}\n",
    "\n",
    "sumTab_poisson <- sumTab_poisson %>% \n",
    "  mutate(adj_p=signif(p.adjust(pval,method = \"BH\"),2)) %>%\n",
    "  mutate(pval = signif(pval, 2)) %>%\n",
    "  # filter(adj_p < 0.05) %>% \n",
    "  dplyr::select(drug_group,outcome,predictor,beta_95CI,pval,adj_p) %>%\n",
    "  arrange(drug_group,adj_p)\n",
    "\n",
    "sumTab_poisson %>% filter(adj_p < 0.1)"
   ]
  },
  {
   "cell_type": "markdown",
   "metadata": {},
   "source": [
    "#### Exacerbation NB"
   ]
  },
  {
   "cell_type": "code",
   "execution_count": null,
   "metadata": {
    "vscode": {
     "languageId": "r"
    }
   },
   "outputs": [],
   "source": [
    "sumTab_nb <- data.frame(matrix(nrow=0,ncol=7))\n",
    "\n",
    "for(st in strata){\n",
    "\n",
    "  for (predictor in scores) {\n",
    "  \n",
    "#     cat(\"Running model for predictor:\", predictor, \"\\n\")\n",
    "  \n",
    "    if(predictor %in% rnList){\n",
    "      adjustment_vars2=adjustment_vars\n",
    "    } else{\n",
    "      adjustment_vars2=paste0(c(adjustment_vars,pcs),collapse = \"+\")\n",
    "    }\n",
    "    \n",
    "    model_table <- call_model(df %>% filter(initial_biologic_recoded==st),\n",
    "                                drug_group = st, outcome, predictor, model_type = \"nb\", \n",
    "                                adjustment_vars2, log_offset=\"days_followed_1yr\")\n",
    "    \n",
    "    sumTab_nb <- rbind(sumTab_nb, model_table)\n",
    "    \n",
    "  }\n",
    "}\n",
    "\n",
    "sumTab_nb <- sumTab_nb %>% \n",
    "  mutate(adj_p=signif(p.adjust(pval,method = \"BH\"),2)) %>%\n",
    "  mutate(pval = signif(pval, 2)) %>%\n",
    "  # filter(adj_p < 0.05) %>% \n",
    "  dplyr::select(drug_group,outcome,predictor,beta_95CI,pval,adj_p) %>%\n",
    "  arrange(drug_group,adj_p)\n",
    "\n",
    "write.table(sumTab_nb, \"exac_sumTab_nb_aou.txt\", sep = \"\\t\", row.names = TRUE, quote = FALSE)"
   ]
  },
  {
   "cell_type": "code",
   "execution_count": null,
   "metadata": {
    "vscode": {
     "languageId": "r"
    }
   },
   "outputs": [],
   "source": [
    "sumTab_nb_filt <- sumTab_nb %>% filter(pval < 0.1)\n",
    "sumTab_nb_filt"
   ]
  },
  {
   "cell_type": "code",
   "execution_count": null,
   "metadata": {
    "vscode": {
     "languageId": "r"
    }
   },
   "outputs": [],
   "source": [
    "pred_short_nb=unique(sumTab_nb_filt$predictor)\n",
    "length(pred_short_nb)\n",
    "pred_short_nb"
   ]
  },
  {
   "cell_type": "markdown",
   "metadata": {},
   "source": [
    "#### Exacerbation NB remove zeros"
   ]
  },
  {
   "cell_type": "code",
   "execution_count": null,
   "metadata": {
    "vscode": {
     "languageId": "r"
    }
   },
   "outputs": [],
   "source": [
    "sumTab_nb_rm0 <- data.frame(matrix(nrow=0,ncol=7))\n",
    "\n",
    "for(st in strata){\n",
    "\n",
    "  for (predictor in scores) {\n",
    "  \n",
    "#     cat(\"Running model for predictor:\", predictor, \"\\n\")\n",
    "  \n",
    "    if(predictor %in% rnList){\n",
    "      adjustment_vars2=adjustment_vars\n",
    "    } else{\n",
    "      adjustment_vars2=paste0(c(adjustment_vars,pcs),collapse = \"+\")\n",
    "    }\n",
    "    \n",
    "    model_table <- call_model(df_rm0 %>% filter(initial_biologic_recoded==st),\n",
    "                                drug_group = st, outcome, predictor, model_type = \"nb\", \n",
    "                                adjustment_vars2, log_offset=\"days_followed_1yr\")\n",
    "    \n",
    "    sumTab_nb_rm0 <- rbind(sumTab_nb_rm0, model_table)\n",
    "    \n",
    "  }\n",
    "}\n",
    "\n",
    "sumTab_nb_rm0 <- sumTab_nb_rm0 %>% \n",
    "  mutate(adj_p=signif(p.adjust(pval,method = \"BH\"),2)) %>%\n",
    "  mutate(pval = signif(pval, 2)) %>%\n",
    "  # filter(adj_p < 0.05) %>% \n",
    "  dplyr::select(drug_group,outcome,predictor,beta_95CI,pval,adj_p) %>%\n",
    "  arrange(drug_group,adj_p)\n",
    "\n",
    "write.table(sumTab_nb_rm0, \"exac_sumTab_nb_rm0_aou.txt\", sep = \"\\t\", row.names = TRUE, quote = FALSE)"
   ]
  },
  {
   "cell_type": "code",
   "execution_count": null,
   "metadata": {
    "vscode": {
     "languageId": "r"
    }
   },
   "outputs": [],
   "source": [
    "sumTab_nb_rm0_filt <- sumTab_nb_rm0 %>% filter(pval < 0.1)\n",
    "sumTab_nb_rm0_filt"
   ]
  },
  {
   "cell_type": "code",
   "execution_count": null,
   "metadata": {
    "vscode": {
     "languageId": "r"
    }
   },
   "outputs": [],
   "source": [
    "pred_short_nb_rm0=unique(sumTab_nb_rm0_filt$predictor)\n",
    "length(pred_short_nb_rm0)\n",
    "pred_short_nb_rm0"
   ]
  },
  {
   "cell_type": "markdown",
   "metadata": {},
   "source": [
    "#### Responsiveness"
   ]
  },
  {
   "cell_type": "code",
   "execution_count": null,
   "metadata": {
    "scrolled": true,
    "vscode": {
     "languageId": "r"
    }
   },
   "outputs": [],
   "source": [
    "sumTab_log=data.frame(\n",
    "  drug_group=character(),\n",
    "  outcome=character(),\n",
    "  predictor=character(),\n",
    "  OR=character(),\n",
    "  p=numeric(),\n",
    "  AUC=numeric()\n",
    ")\n",
    "\n",
    "# Loop through each predictor, fit the model, and calculate AUROC\n",
    "for(st in strata){\n",
    "    \n",
    "  for (predictor in scores) {\n",
    "\n",
    "      if(predictor %in% rnList){\n",
    "      adjustment_vars2=adjustment_vars\n",
    "    } else{\n",
    "      adjustment_vars2=paste0(c(adjustment_vars,pcs),collapse = \"+\")\n",
    "    }\n",
    "    \n",
    "    # Fit the model with adjustment variables\n",
    "  formula <- as.formula(paste(\"response ~\", predictor, \"+\", paste(adjustment_vars2, collapse = \"+\")))\n",
    "  model <- glm(formula, data = df %>% filter(initial_biologic_recoded==st), family = binomial, maxit=500)\n",
    "  \n",
    "  if(is.na(coef(model)[predictor])) { next }\n",
    " \n",
    "  # Calculate AUROC\n",
    "  roc_obj <- roc(model$y, model$fitted.values)\n",
    "  \n",
    "   res=data.frame(\n",
    "    drug_group=st,\n",
    "    outcome=\"response\",\n",
    "    predictor=predictor,\n",
    "    OR=OrCi(model,predictor),\n",
    "    pval=pvalglm(model,predictor),\n",
    "    AUC=signif(roc_obj$auc,3)\n",
    "  )\n",
    "  \n",
    "  sumTab_log=rbind(sumTab_log,res)\n",
    "\n",
    "  }\n",
    "}\n",
    "\n",
    "\n",
    "sumTab_log <- sumTab_log %>% \n",
    "  mutate(pval = signif(pval, 2)) %>%\n",
    "  dplyr::select(drug_group,outcome,predictor,OR,pval,AUC) %>%\n",
    "  arrange(drug_group,desc(AUC))\n",
    "\n",
    "write.table(sumTab_log, \"resp_sumTab_log_aou.txt\", sep = \"\\t\", row.names = TRUE, quote = FALSE)"
   ]
  },
  {
   "cell_type": "code",
   "execution_count": null,
   "metadata": {
    "vscode": {
     "languageId": "r"
    }
   },
   "outputs": [],
   "source": [
    "sumTab_log_filt <- sumTab_log %>% filter(pval < 0.1)\n",
    "sumTab_log_filt"
   ]
  },
  {
   "cell_type": "code",
   "execution_count": null,
   "metadata": {
    "vscode": {
     "languageId": "r"
    }
   },
   "outputs": [],
   "source": [
    "df_oma <- df %>% filter(initial_biologic_recoded==\"Omalizumab\")\n",
    "model_IL21_oma_resp <- build_model(df_oma, outcome=\"response\", predictor=\"IL21.7124.18.3\", model_type=\"binomial\", adjustment_vars, log_offset=NULL)\n",
    "roc_IL21_oma_resp <- roc(model_IL21_oma_resp$y, model_IL21_oma_resp$fitted.values)\n",
    "\n",
    "df_dupi <- df %>% filter(initial_biologic_recoded==\"Dupilumab\")\n",
    "model_IL21_dupi_resp <- build_model(df_dupi, outcome=\"response\", predictor=\"IL21.7124.18.3\", model_type=\"binomial\", adjustment_vars, log_offset=NULL)\n",
    "roc_IL21_dupi_resp <- roc(model_IL21_dupi_resp$y, model_IL21_dupi_resp$fitted.values)\n",
    "\n",
    "df_IL5 <- df %>% filter(initial_biologic_recoded==\"IL5\")\n",
    "model_IL21_IL5_resp <- build_model(df_IL5, outcome=\"response\", predictor=\"IL21.7124.18.3\", model_type=\"binomial\", adjustment_vars, log_offset=NULL)\n",
    "roc_IL21_IL5_resp <- roc(model_IL21_IL5_resp$y, model_IL21_IL5_resp$fitted.values)\n",
    "\n",
    "\n",
    "plot(smooth(roc_IL21_oma_resp), col = \"#006600\", main = \"Response predicted by IL21.7124.18.3\", cex.main = 1.2, font.main = 1)\n",
    "plot(smooth(roc_IL21_dupi_resp), col = \"#FF6600\", add = TRUE)\n",
    "plot(smooth(roc_IL21_IL5_resp), col = \"#0033FF\", add = TRUE)\n",
    "\n",
    "labels <- c(\n",
    "  paste(\"IL21 Omalizumab response (AUC =\", signif(auc(roc_IL21_oma_resp), 3), \")\"),\n",
    "  paste(\"IL21 Dupilumab response (AUC =\", signif(auc(roc_IL21_dupi_resp), 3), \")\"),\n",
    "  paste(\"IL21 Mepolizumab response (AUC =\", signif(auc(roc_IL21_IL5_resp), 3), \")\")\n",
    ")\n",
    "\n",
    "legend(\"bottomright\", legend = labels, col = c(\"#006600\", \"#FF6600\", \"#0033FF\"), lwd = 2, cex = 0.8, y.intersp = 0.8)\n",
    "\n",
    "saveRDS(list(roc_IL21_oma_resp = roc_IL21_oma_resp, roc_IL21_dupi_resp = roc_IL21_dupi_resp, roc_IL21_IL5_resp = roc_IL21_IL5_resp), \"IL21_roc_list_aou.rds\")\n"
   ]
  },
  {
   "cell_type": "code",
   "execution_count": null,
   "metadata": {
    "vscode": {
     "languageId": "r"
    }
   },
   "outputs": [],
   "source": [
    "model_IL5RA_IL21_oma_resp <- build_model(df_oma, outcome=\"response\", predictor=\"IL5RA.13686.2.3 + IL21.7124.18.3\", model_type=\"binomial\", adjustment_vars, log_offset=NULL)\n",
    "roc_IL5RA_IL21_oma_resp <- roc(model_IL5RA_IL21_oma_resp$y, model_IL5RA_IL21_oma_resp$fitted.values)\n",
    "\n",
    "plot(smooth(roc_IL5RA_IL21_oma_resp), col = \"#FF66FF\", main = \"Response in Omalizumab\", cex.main = 1.2, font.main = 1)\n",
    "\n",
    "labels <- c(\n",
    "  paste(\"IL21 + IL5RA Omalizumab response (AUC =\", signif(auc(roc_IL5RA_IL21_oma_resp), 3), \")\")\n",
    ")\n",
    "\n",
    "legend(\"bottomright\", legend = labels, col = c(\"#FF66FF\"), lwd = 2, cex = 0.8, y.intersp = 0.8)\n",
    "\n",
    "saveRDS(list(roc_IL5RA_IL21_oma_resp = roc_IL5RA_IL21_oma_resp), \"IL5RA_IL21_roc_list_aou.rds\")"
   ]
  },
  {
   "cell_type": "code",
   "execution_count": null,
   "metadata": {
    "vscode": {
     "languageId": "r"
    }
   },
   "outputs": [],
   "source": [
    "model_CCL17_IL21_dupi_resp <- build_model(df_dupi, outcome=\"response\", predictor=\"CCL17.3519.3.2 + IL21.7124.18.3\", model_type=\"binomial\", adjustment_vars, log_offset=NULL)\n",
    "roc_CCL17_IL21_dupi_resp <- roc(model_CCL17_IL21_dupi_resp$y, model_CCL17_IL21_dupi_resp$fitted.values)\n",
    "\n",
    "plot(smooth(roc_CCL17_IL21_dupi_resp), col = \"#006600\", main = \"Response in Dupilumab\", cex.main = 1.2, font.main = 1)\n",
    "\n",
    "labels <- c(\n",
    "  paste(\"IL21 + CCL17 Dupilumab response (AUC =\", signif(auc(roc_CCL17_IL21_dupi_resp), 3), \")\")\n",
    ")\n",
    "\n",
    "legend(\"bottomright\", legend = labels, col = c(\"#006600\"), lwd = 2, cex = 0.8, y.intersp = 0.8)\n",
    "\n",
    "saveRDS(list(roc_CCL17_IL21_dupi_resp = roc_CCL17_IL21_dupi_resp), \"CCL17_IL21_roc_list_aou.rds\")"
   ]
  },
  {
   "cell_type": "code",
   "execution_count": null,
   "metadata": {
    "vscode": {
     "languageId": "r"
    }
   },
   "outputs": [],
   "source": [
    "print(roc.test(roc_IL21_oma_resp, roc_IL5RA_IL21_oma_resp))\n",
    "print(roc.test(roc_IL21_dupi_resp, roc_CCL17_IL21_dupi_resp))"
   ]
  },
  {
   "cell_type": "code",
   "execution_count": null,
   "metadata": {
    "vscode": {
     "languageId": "r"
    }
   },
   "outputs": [],
   "source": [
    "model_IL4_oma_resp <- build_model(df_oma, outcome=\"response\", predictor=\"IL4R.3055.54.2_16_27344882_snp\", model_type=\"binomial\", adjustment_vars, log_offset=NULL)\n",
    "roc_IL4_oma_resp <- roc(model_IL4_oma_resp$y, model_IL4_oma_resp$fitted.values)\n",
    "\n",
    "model_IL4_dupi_resp <- build_model(df_dupi, outcome=\"response\", predictor=\"IL4R.3055.54.2_16_27344882_snp\", model_type=\"binomial\", adjustment_vars, log_offset=NULL)\n",
    "roc_IL4_dupi_resp <- roc(model_IL4_dupi_resp$y, model_IL4_dupi_resp$fitted.values)\n",
    "\n",
    "model_IL4_IL5_resp <- build_model(df_IL5, outcome=\"response\", predictor=\"IL4R.3055.54.2_16_27344882_snp\", model_type=\"binomial\", adjustment_vars, log_offset=NULL)\n",
    "roc_IL4_IL5_resp <- roc(model_IL4_IL5_resp$y, model_IL4_IL5_resp$fitted.values)\n",
    "\n",
    "plot(smooth(roc_IL4_oma_resp), col = \"#006600\", main = \"Response predicted by IL4R.3055.54.2_16_27344882 SNP\", cex.main = 1.2, font.main = 1)\n",
    "plot(smooth(roc_IL4_dupi_resp), col = \"#FF6600\", add = TRUE)\n",
    "plot(smooth(roc_IL4_IL5_resp), col = \"#0033FF\", add = TRUE)\n",
    "\n",
    "labels <- c(\n",
    "  paste(\"IL4 SNP Dupilumab response (AUC =\", signif(auc(roc_IL4_oma_resp), 3), \")\"),\n",
    "  paste(\"IL4 SNP Omalizumab response (AUC =\", signif(auc(roc_IL4_dupi_resp), 3), \")\"),\n",
    "  paste(\"IL4 SNP Mepolizumab response (AUC =\", signif(auc(roc_IL4_IL5_resp), 3), \")\")\n",
    ")\n",
    "\n",
    "legend(\"bottomright\", legend = labels, col = c(\"#006600\", \"#FF6600\", \"#0033FF\"), lwd = 2, cex = 0.8, y.intersp = 0.8)\n",
    "\n",
    "saveRDS(list(roc_IL4_oma_resp = roc_IL4_oma_resp, roc_IL4_dupi_resp = roc_IL4_dupi_resp, roc_IL4_IL5_resp = roc_IL4_IL5_resp), \"IL4_roc_list_aou.rds\")\n"
   ]
  },
  {
   "cell_type": "markdown",
   "metadata": {},
   "source": [
    "### Visualize associations"
   ]
  },
  {
   "cell_type": "code",
   "execution_count": null,
   "metadata": {
    "scrolled": false,
    "vscode": {
     "languageId": "r"
    }
   },
   "outputs": [],
   "source": [
    "for(i in 1:nrow(sumTab_nb_rm0_filt)){\n",
    "  \n",
    "  grp=sumTab_nb_rm0_filt[[i,\"drug_group\"]]\n",
    "  ot=sumTab_nb_rm0_filt[[i,\"outcome\"]]\n",
    "  pr=sumTab_nb_rm0_filt[[i,\"predictor\"]]\n",
    "  \n",
    "  # correlation coefficient\n",
    "  df_subset=df %>% filter(initial_biologic_recoded==grp)\n",
    "  res_cor=cor.test(df_subset[,pr],df_subset[,ot])\n",
    "  \n",
    "  if(pr %in% rnList){\n",
    "    \n",
    "    print(\n",
    "    ggplot(df_subset,\n",
    "           aes(x=get(pr),y=get(ot)))+\n",
    "      geom_point()+\n",
    "      geom_smooth(method=\"lm\")+\n",
    "      xlab(pr)+ylab(ot)+\n",
    "      theme_classic()+\n",
    "      labs(subtitle = paste0(\"r=\",signif(res_cor$estimate,2),\", p=\",signif(res_cor$p.value,2)))+\n",
    "      ggtitle(grp)\n",
    "    \n",
    "  \n",
    "    )\n",
    "    \n",
    "  } else {\n",
    "    \n",
    "     print(\n",
    "    ggplot(df_subset,\n",
    "           aes(x=as.factor(get(pr)),y=get(ot)))+\n",
    "      geom_violin()+\n",
    "      geom_point()+\n",
    "      xlab(pr)+ylab(ot)+\n",
    "      theme_classic()+\n",
    "      labs(subtitle = paste0(\"r=\",signif(res_cor$estimate,2),\", p=\",signif(res_cor$p.value,2)))+\n",
    "      ggtitle(grp)\n",
    "    \n",
    "  \n",
    "    )\n",
    "    \n",
    "  }\n",
    "  \n",
    "}"
   ]
  },
  {
   "cell_type": "code",
   "execution_count": null,
   "metadata": {
    "scrolled": false,
    "vscode": {
     "languageId": "r"
    }
   },
   "outputs": [],
   "source": [
    "\n",
    "# for responsiveness\n",
    "for(i in 1:nrow(sumTab_log_filt)){\n",
    "  \n",
    "  grp=sumTab_log_filt[[i,\"drug_group\"]]\n",
    "  ot=sumTab_log_filt[[i,\"outcome\"]]\n",
    "  pr=sumTab_log_filt[[i,\"predictor\"]]\n",
    "  \n",
    "  # correlation coefficient\n",
    "  df_subset=df %>% filter(initial_biologic_recoded==grp)\n",
    "  res_ttest=t.test(df_subset[,pr]~df_subset[,ot])\n",
    "  \n",
    "  if(pr %in% rnList){\n",
    "    \n",
    "    print(\n",
    "    ggplot(df_subset,\n",
    "           aes(x=as.factor(get(ot)),y=get(pr)))+\n",
    "      geom_boxplot()+\n",
    "      geom_violin()+\n",
    "      xlab(ot)+ylab(pr)+\n",
    "      theme_classic()+\n",
    "      labs(subtitle = paste0(\"p=\",signif(res_ttest$p.value,2)))+\n",
    "      ggtitle(grp)\n",
    "    \n",
    "  \n",
    "    )\n",
    "  } else {\n",
    "    \n",
    "    \n",
    "    summary_data <- df %>%\n",
    "      group_by(get(pr)) %>%\n",
    "      summarise(\n",
    "      Mean_Outcome = mean(get(ot)),\n",
    "      Count = n()\n",
    "    )\n",
    "\n",
    "  # Bar plot of mean outcome for each SNP category\n",
    "  print(\n",
    "    ggplot(summary_data, aes(x = as.factor(`get(pr)`), y = Mean_Outcome)) +\n",
    "     geom_bar(stat = \"identity\", fill = \"skyblue\", alpha = 0.8) +\n",
    "      geom_text(aes(label = round(Mean_Outcome, 2)), vjust = -0.5) +\n",
    "      labs(\n",
    "        title = grp,\n",
    "        x = pr,\n",
    "        y = \"Response\"\n",
    "      ) +\n",
    "    theme_classic()\n",
    "  )  \n",
    "  } \n",
    "}"
   ]
  }
 ],
 "metadata": {
  "kernelspec": {
   "display_name": "R",
   "language": "R",
   "name": "ir"
  },
  "language_info": {
   "codemirror_mode": "r",
   "file_extension": ".r",
   "mimetype": "text/x-r-source",
   "name": "R",
   "pygments_lexer": "r",
   "version": "4.4.0"
  },
  "toc": {
   "base_numbering": 1,
   "nav_menu": {},
   "number_sections": true,
   "sideBar": true,
   "skip_h1_title": false,
   "title_cell": "Table of Contents",
   "title_sidebar": "Contents",
   "toc_cell": false,
   "toc_position": {},
   "toc_section_display": true,
   "toc_window_display": false
  }
 },
 "nbformat": 4,
 "nbformat_minor": 2
}
